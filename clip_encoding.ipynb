{
 "cells": [
  {
   "cell_type": "code",
   "execution_count": 1,
   "metadata": {},
   "outputs": [],
   "source": [
    "import tensorflow as tf\n",
    "import numpy as np\n",
    "import pandas as pd\n",
    "import matplotlib.pyplot as plt\n",
    "import optuna\n",
    "from sklearn.preprocessing import StandardScaler\n",
    "from sklearn.svm import SVC\n",
    "from sklearn.metrics import accuracy_score\n",
    "import open_clip"
   ]
  },
  {
   "cell_type": "code",
   "execution_count": 2,
   "metadata": {},
   "outputs": [
    {
     "name": "stdout",
     "output_type": "stream",
     "text": [
      "Using GPU: PhysicalDevice(name='/physical_device:GPU:0', device_type='GPU')\n"
     ]
    }
   ],
   "source": [
    "gpus = tf.config.list_physical_devices('GPU')\n",
    "if gpus:\n",
    "    try:\n",
    "        tf.config.experimental.set_memory_growth(gpus[0], True)\n",
    "        tf.config.set_visible_devices(gpus[0], 'GPU')\n",
    "        print(\"Using GPU:\", gpus[0])\n",
    "    except RuntimeError as e:\n",
    "        print(e)\n",
    "else:\n",
    "    print(\"No GPU found!\")"
   ]
  },
  {
   "cell_type": "code",
   "execution_count": null,
   "metadata": {},
   "outputs": [
    {
     "name": "stderr",
     "output_type": "stream",
     "text": [
      "e:\\python\\Kaggle_Hack\\.venv\\lib\\site-packages\\open_clip\\factory.py:380: UserWarning: These pretrained weights were trained with QuickGELU activation but the model config does not have that enabled. Consider using a model config with a \"-quickgelu\" suffix or enable with a flag.\n",
      "  warnings.warn(\n"
     ]
    }
   ],
   "source": [
    "import torch\n",
    "import torchvision.transforms as transforms\n",
    "from PIL import Image\n",
    "import os\n",
    "from sklearn.model_selection import train_test_split\n",
    "\n",
    "# Set device\n",
    "device = \"cuda\" if torch.cuda.is_available() else \"cpu\"\n",
    "\n",
    "model = open_clip.create_model(\"ViT-B/32\", pretrained=\"openai\")\n",
    "\n",
    "preprocess = open_clip.image_transform(\n",
    "    model.visual.image_size, is_train=False\n",
    ")\n",
    "model.eval()\n",
    "\n",
    "dataset_path = \"Sorted\"\n",
    "emotion_names = list(sorted(os.listdir(dataset_path)))\n",
    "\n",
    "def extract_clip_features(image_path):\n",
    "    image = Image.open(image_path).convert(\"RGB\")\n",
    "    image = preprocess(image).unsqueeze(0)\n",
    "\n",
    "    with torch.no_grad():\n",
    "        image_features = model.encode_image(image)\n",
    "\n",
    "    # Normalize the features\n",
    "    image_features /= image_features.norm(dim=-1, keepdim=True)\n",
    "\n",
    "    return image_features.cpu().numpy().flatten()\n",
    "\n",
    "X, y = [], []\n",
    "\n",
    "for label, emotion in enumerate(emotion_names):\n",
    "    emotion_folder = os.path.join(dataset_path, emotion)\n",
    "\n",
    "    if not os.path.isdir(emotion_folder):\n",
    "        continue\n",
    "\n",
    "    for image_file in os.listdir(emotion_folder):\n",
    "        image_path = os.path.join(emotion_folder, image_file)\n",
    "        if not image_file.lower().endswith(('.png', '.jpg', '.jpeg')):\n",
    "            continue\n",
    "\n",
    "        features = extract_clip_features(image_path)\n",
    "        X.append(features)\n",
    "        y.append(label)\n",
    "\n",
    "X = np.array(X)\n",
    "y = np.array(y)\n",
    "\n",
    "X_train, X_val, y_train, y_val = train_test_split(X, y, test_size=0.2, random_state=42)\n",
    "\n",
    "scaler = StandardScaler()\n",
    "X_train = scaler.fit_transform(X_train)\n",
    "X_val = scaler.transform(X_val)"
   ]
  },
  {
   "cell_type": "code",
   "execution_count": null,
   "metadata": {},
   "outputs": [
    {
     "name": "stderr",
     "output_type": "stream",
     "text": [
      "[I 2025-03-27 23:17:15,516] A new study created in memory with name: no-name-cebd454c-5d54-4e5b-baeb-24925746c350\n",
      "C:\\Users\\abinj\\AppData\\Local\\Temp\\ipykernel_2024\\2631250571.py:3: FutureWarning: suggest_loguniform has been deprecated in v3.0.0. This feature will be removed in v6.0.0. See https://github.com/optuna/optuna/releases/tag/v3.0.0. Use suggest_float(..., log=True) instead.\n",
      "  C = trial.suggest_loguniform(\"C\", 1e-2, 1e2)\n",
      "[I 2025-03-27 23:17:46,549] Trial 0 finished with value: 0.4672765657987333 and parameters: {'C': 0.013911305760222552, 'kernel': 'sigmoid'}. Best is trial 0 with value: 0.4672765657987333.\n",
      "C:\\Users\\abinj\\AppData\\Local\\Temp\\ipykernel_2024\\2631250571.py:3: FutureWarning: suggest_loguniform has been deprecated in v3.0.0. This feature will be removed in v6.0.0. See https://github.com/optuna/optuna/releases/tag/v3.0.0. Use suggest_float(..., log=True) instead.\n",
      "  C = trial.suggest_loguniform(\"C\", 1e-2, 1e2)\n",
      "[I 2025-03-27 23:18:01,100] Trial 1 finished with value: 0.5721323011963406 and parameters: {'C': 1.5621245235300665, 'kernel': 'sigmoid'}. Best is trial 1 with value: 0.5721323011963406.\n",
      "C:\\Users\\abinj\\AppData\\Local\\Temp\\ipykernel_2024\\2631250571.py:3: FutureWarning: suggest_loguniform has been deprecated in v3.0.0. This feature will be removed in v6.0.0. See https://github.com/optuna/optuna/releases/tag/v3.0.0. Use suggest_float(..., log=True) instead.\n",
      "  C = trial.suggest_loguniform(\"C\", 1e-2, 1e2)\n",
      "[I 2025-03-27 23:18:13,925] Trial 2 finished with value: 0.5087966220971147 and parameters: {'C': 35.11064200558221, 'kernel': 'sigmoid'}. Best is trial 1 with value: 0.5721323011963406.\n",
      "C:\\Users\\abinj\\AppData\\Local\\Temp\\ipykernel_2024\\2631250571.py:3: FutureWarning: suggest_loguniform has been deprecated in v3.0.0. This feature will be removed in v6.0.0. See https://github.com/optuna/optuna/releases/tag/v3.0.0. Use suggest_float(..., log=True) instead.\n",
      "  C = trial.suggest_loguniform(\"C\", 1e-2, 1e2)\n",
      "[I 2025-03-27 23:18:38,259] Trial 3 finished with value: 0.4904996481351161 and parameters: {'C': 0.055381238173108166, 'kernel': 'rbf'}. Best is trial 1 with value: 0.5721323011963406.\n",
      "C:\\Users\\abinj\\AppData\\Local\\Temp\\ipykernel_2024\\2631250571.py:3: FutureWarning: suggest_loguniform has been deprecated in v3.0.0. This feature will be removed in v6.0.0. See https://github.com/optuna/optuna/releases/tag/v3.0.0. Use suggest_float(..., log=True) instead.\n",
      "  C = trial.suggest_loguniform(\"C\", 1e-2, 1e2)\n",
      "[I 2025-03-27 23:18:55,934] Trial 4 finished with value: 0.5594651653764954 and parameters: {'C': 0.09424961280385134, 'kernel': 'sigmoid'}. Best is trial 1 with value: 0.5721323011963406.\n",
      "C:\\Users\\abinj\\AppData\\Local\\Temp\\ipykernel_2024\\2631250571.py:3: FutureWarning: suggest_loguniform has been deprecated in v3.0.0. This feature will be removed in v6.0.0. See https://github.com/optuna/optuna/releases/tag/v3.0.0. Use suggest_float(..., log=True) instead.\n",
      "  C = trial.suggest_loguniform(\"C\", 1e-2, 1e2)\n",
      "[I 2025-03-27 23:19:14,773] Trial 5 finished with value: 0.5601688951442646 and parameters: {'C': 0.09605037553236047, 'kernel': 'sigmoid'}. Best is trial 1 with value: 0.5721323011963406.\n",
      "C:\\Users\\abinj\\AppData\\Local\\Temp\\ipykernel_2024\\2631250571.py:3: FutureWarning: suggest_loguniform has been deprecated in v3.0.0. This feature will be removed in v6.0.0. See https://github.com/optuna/optuna/releases/tag/v3.0.0. Use suggest_float(..., log=True) instead.\n",
      "  C = trial.suggest_loguniform(\"C\", 1e-2, 1e2)\n",
      "[I 2025-03-27 23:19:38,464] Trial 6 finished with value: 0.4813511611541168 and parameters: {'C': 0.01724151828394343, 'kernel': 'sigmoid'}. Best is trial 1 with value: 0.5721323011963406.\n",
      "C:\\Users\\abinj\\AppData\\Local\\Temp\\ipykernel_2024\\2631250571.py:3: FutureWarning: suggest_loguniform has been deprecated in v3.0.0. This feature will be removed in v6.0.0. See https://github.com/optuna/optuna/releases/tag/v3.0.0. Use suggest_float(..., log=True) instead.\n",
      "  C = trial.suggest_loguniform(\"C\", 1e-2, 1e2)\n",
      "[I 2025-03-27 23:19:50,638] Trial 7 finished with value: 0.625615763546798 and parameters: {'C': 0.026191680051812643, 'kernel': 'linear'}. Best is trial 7 with value: 0.625615763546798.\n",
      "C:\\Users\\abinj\\AppData\\Local\\Temp\\ipykernel_2024\\2631250571.py:3: FutureWarning: suggest_loguniform has been deprecated in v3.0.0. This feature will be removed in v6.0.0. See https://github.com/optuna/optuna/releases/tag/v3.0.0. Use suggest_float(..., log=True) instead.\n",
      "  C = trial.suggest_loguniform(\"C\", 1e-2, 1e2)\n",
      "[I 2025-03-27 23:20:10,663] Trial 8 finished with value: 0.6826178747361014 and parameters: {'C': 2.9851455108301725, 'kernel': 'rbf'}. Best is trial 8 with value: 0.6826178747361014.\n",
      "C:\\Users\\abinj\\AppData\\Local\\Temp\\ipykernel_2024\\2631250571.py:3: FutureWarning: suggest_loguniform has been deprecated in v3.0.0. This feature will be removed in v6.0.0. See https://github.com/optuna/optuna/releases/tag/v3.0.0. Use suggest_float(..., log=True) instead.\n",
      "  C = trial.suggest_loguniform(\"C\", 1e-2, 1e2)\n",
      "[I 2025-03-27 23:20:26,829] Trial 9 finished with value: 0.5749472202674173 and parameters: {'C': 0.160286528682857, 'kernel': 'sigmoid'}. Best is trial 8 with value: 0.6826178747361014.\n",
      "C:\\Users\\abinj\\AppData\\Local\\Temp\\ipykernel_2024\\2631250571.py:3: FutureWarning: suggest_loguniform has been deprecated in v3.0.0. This feature will be removed in v6.0.0. See https://github.com/optuna/optuna/releases/tag/v3.0.0. Use suggest_float(..., log=True) instead.\n",
      "  C = trial.suggest_loguniform(\"C\", 1e-2, 1e2)\n",
      "[I 2025-03-27 23:20:47,032] Trial 10 finished with value: 0.6699507389162561 and parameters: {'C': 7.7830249450000295, 'kernel': 'rbf'}. Best is trial 8 with value: 0.6826178747361014.\n",
      "C:\\Users\\abinj\\AppData\\Local\\Temp\\ipykernel_2024\\2631250571.py:3: FutureWarning: suggest_loguniform has been deprecated in v3.0.0. This feature will be removed in v6.0.0. See https://github.com/optuna/optuna/releases/tag/v3.0.0. Use suggest_float(..., log=True) instead.\n",
      "  C = trial.suggest_loguniform(\"C\", 1e-2, 1e2)\n",
      "[I 2025-03-27 23:21:06,995] Trial 11 finished with value: 0.6713581984517946 and parameters: {'C': 10.565995221181606, 'kernel': 'rbf'}. Best is trial 8 with value: 0.6826178747361014.\n",
      "C:\\Users\\abinj\\AppData\\Local\\Temp\\ipykernel_2024\\2631250571.py:3: FutureWarning: suggest_loguniform has been deprecated in v3.0.0. This feature will be removed in v6.0.0. See https://github.com/optuna/optuna/releases/tag/v3.0.0. Use suggest_float(..., log=True) instead.\n",
      "  C = trial.suggest_loguniform(\"C\", 1e-2, 1e2)\n",
      "[I 2025-03-27 23:21:24,296] Trial 12 finished with value: 0.6783954961294862 and parameters: {'C': 2.669544483652125, 'kernel': 'rbf'}. Best is trial 8 with value: 0.6826178747361014.\n",
      "C:\\Users\\abinj\\AppData\\Local\\Temp\\ipykernel_2024\\2631250571.py:3: FutureWarning: suggest_loguniform has been deprecated in v3.0.0. This feature will be removed in v6.0.0. See https://github.com/optuna/optuna/releases/tag/v3.0.0. Use suggest_float(..., log=True) instead.\n",
      "  C = trial.suggest_loguniform(\"C\", 1e-2, 1e2)\n",
      "[I 2025-03-27 23:21:43,752] Trial 13 finished with value: 0.6199859254046446 and parameters: {'C': 0.9287008475615247, 'kernel': 'poly'}. Best is trial 8 with value: 0.6826178747361014.\n",
      "C:\\Users\\abinj\\AppData\\Local\\Temp\\ipykernel_2024\\2631250571.py:3: FutureWarning: suggest_loguniform has been deprecated in v3.0.0. This feature will be removed in v6.0.0. See https://github.com/optuna/optuna/releases/tag/v3.0.0. Use suggest_float(..., log=True) instead.\n",
      "  C = trial.suggest_loguniform(\"C\", 1e-2, 1e2)\n",
      "[I 2025-03-27 23:22:00,261] Trial 14 finished with value: 0.6664320900774102 and parameters: {'C': 1.222798779632936, 'kernel': 'rbf'}. Best is trial 8 with value: 0.6826178747361014.\n",
      "C:\\Users\\abinj\\AppData\\Local\\Temp\\ipykernel_2024\\2631250571.py:3: FutureWarning: suggest_loguniform has been deprecated in v3.0.0. This feature will be removed in v6.0.0. See https://github.com/optuna/optuna/releases/tag/v3.0.0. Use suggest_float(..., log=True) instead.\n",
      "  C = trial.suggest_loguniform(\"C\", 1e-2, 1e2)\n",
      "[I 2025-03-27 23:22:19,006] Trial 15 finished with value: 0.6819141449683321 and parameters: {'C': 2.9081654609121874, 'kernel': 'rbf'}. Best is trial 8 with value: 0.6826178747361014.\n",
      "C:\\Users\\abinj\\AppData\\Local\\Temp\\ipykernel_2024\\2631250571.py:3: FutureWarning: suggest_loguniform has been deprecated in v3.0.0. This feature will be removed in v6.0.0. See https://github.com/optuna/optuna/releases/tag/v3.0.0. Use suggest_float(..., log=True) instead.\n",
      "  C = trial.suggest_loguniform(\"C\", 1e-2, 1e2)\n",
      "[I 2025-03-27 23:22:34,599] Trial 16 finished with value: 0.5622800844475722 and parameters: {'C': 0.43995279205081333, 'kernel': 'linear'}. Best is trial 8 with value: 0.6826178747361014.\n",
      "C:\\Users\\abinj\\AppData\\Local\\Temp\\ipykernel_2024\\2631250571.py:3: FutureWarning: suggest_loguniform has been deprecated in v3.0.0. This feature will be removed in v6.0.0. See https://github.com/optuna/optuna/releases/tag/v3.0.0. Use suggest_float(..., log=True) instead.\n",
      "  C = trial.suggest_loguniform(\"C\", 1e-2, 1e2)\n",
      "[I 2025-03-27 23:22:57,352] Trial 17 finished with value: 0.6579873328641802 and parameters: {'C': 93.71649625190261, 'kernel': 'poly'}. Best is trial 8 with value: 0.6826178747361014.\n",
      "C:\\Users\\abinj\\AppData\\Local\\Temp\\ipykernel_2024\\2631250571.py:3: FutureWarning: suggest_loguniform has been deprecated in v3.0.0. This feature will be removed in v6.0.0. See https://github.com/optuna/optuna/releases/tag/v3.0.0. Use suggest_float(..., log=True) instead.\n",
      "  C = trial.suggest_loguniform(\"C\", 1e-2, 1e2)\n",
      "[I 2025-03-27 23:23:17,528] Trial 18 finished with value: 0.6713581984517946 and parameters: {'C': 6.749014790705742, 'kernel': 'rbf'}. Best is trial 8 with value: 0.6826178747361014.\n",
      "C:\\Users\\abinj\\AppData\\Local\\Temp\\ipykernel_2024\\2631250571.py:3: FutureWarning: suggest_loguniform has been deprecated in v3.0.0. This feature will be removed in v6.0.0. See https://github.com/optuna/optuna/releases/tag/v3.0.0. Use suggest_float(..., log=True) instead.\n",
      "  C = trial.suggest_loguniform(\"C\", 1e-2, 1e2)\n",
      "[I 2025-03-27 23:23:35,131] Trial 19 finished with value: 0.6009852216748769 and parameters: {'C': 0.35651369160835567, 'kernel': 'rbf'}. Best is trial 8 with value: 0.6826178747361014.\n",
      "C:\\Users\\abinj\\AppData\\Local\\Temp\\ipykernel_2024\\2631250571.py:3: FutureWarning: suggest_loguniform has been deprecated in v3.0.0. This feature will be removed in v6.0.0. See https://github.com/optuna/optuna/releases/tag/v3.0.0. Use suggest_float(..., log=True) instead.\n",
      "  C = trial.suggest_loguniform(\"C\", 1e-2, 1e2)\n",
      "[I 2025-03-27 23:23:54,731] Trial 20 finished with value: 0.6713581984517946 and parameters: {'C': 22.631910119097686, 'kernel': 'rbf'}. Best is trial 8 with value: 0.6826178747361014.\n",
      "C:\\Users\\abinj\\AppData\\Local\\Temp\\ipykernel_2024\\2631250571.py:3: FutureWarning: suggest_loguniform has been deprecated in v3.0.0. This feature will be removed in v6.0.0. See https://github.com/optuna/optuna/releases/tag/v3.0.0. Use suggest_float(..., log=True) instead.\n",
      "  C = trial.suggest_loguniform(\"C\", 1e-2, 1e2)\n",
      "[I 2025-03-27 23:24:13,620] Trial 21 finished with value: 0.6826178747361014 and parameters: {'C': 2.8093237804650166, 'kernel': 'rbf'}. Best is trial 8 with value: 0.6826178747361014.\n",
      "C:\\Users\\abinj\\AppData\\Local\\Temp\\ipykernel_2024\\2631250571.py:3: FutureWarning: suggest_loguniform has been deprecated in v3.0.0. This feature will be removed in v6.0.0. See https://github.com/optuna/optuna/releases/tag/v3.0.0. Use suggest_float(..., log=True) instead.\n",
      "  C = trial.suggest_loguniform(\"C\", 1e-2, 1e2)\n",
      "[I 2025-03-27 23:24:31,333] Trial 22 finished with value: 0.6819141449683321 and parameters: {'C': 3.221820004196818, 'kernel': 'rbf'}. Best is trial 8 with value: 0.6826178747361014.\n",
      "C:\\Users\\abinj\\AppData\\Local\\Temp\\ipykernel_2024\\2631250571.py:3: FutureWarning: suggest_loguniform has been deprecated in v3.0.0. This feature will be removed in v6.0.0. See https://github.com/optuna/optuna/releases/tag/v3.0.0. Use suggest_float(..., log=True) instead.\n",
      "  C = trial.suggest_loguniform(\"C\", 1e-2, 1e2)\n",
      "[I 2025-03-27 23:24:49,373] Trial 23 finished with value: 0.6776917663617171 and parameters: {'C': 4.115092487692831, 'kernel': 'rbf'}. Best is trial 8 with value: 0.6826178747361014.\n",
      "C:\\Users\\abinj\\AppData\\Local\\Temp\\ipykernel_2024\\2631250571.py:3: FutureWarning: suggest_loguniform has been deprecated in v3.0.0. This feature will be removed in v6.0.0. See https://github.com/optuna/optuna/releases/tag/v3.0.0. Use suggest_float(..., log=True) instead.\n",
      "  C = trial.suggest_loguniform(\"C\", 1e-2, 1e2)\n",
      "[I 2025-03-27 23:25:09,962] Trial 24 finished with value: 0.6073187895847995 and parameters: {'C': 0.6793241129318948, 'kernel': 'poly'}. Best is trial 8 with value: 0.6826178747361014.\n",
      "C:\\Users\\abinj\\AppData\\Local\\Temp\\ipykernel_2024\\2631250571.py:3: FutureWarning: suggest_loguniform has been deprecated in v3.0.0. This feature will be removed in v6.0.0. See https://github.com/optuna/optuna/releases/tag/v3.0.0. Use suggest_float(..., log=True) instead.\n",
      "  C = trial.suggest_loguniform(\"C\", 1e-2, 1e2)\n",
      "[I 2025-03-27 23:26:03,128] Trial 25 finished with value: 0.5587614356087263 and parameters: {'C': 15.022224092060206, 'kernel': 'linear'}. Best is trial 8 with value: 0.6826178747361014.\n",
      "C:\\Users\\abinj\\AppData\\Local\\Temp\\ipykernel_2024\\2631250571.py:3: FutureWarning: suggest_loguniform has been deprecated in v3.0.0. This feature will be removed in v6.0.0. See https://github.com/optuna/optuna/releases/tag/v3.0.0. Use suggest_float(..., log=True) instead.\n",
      "  C = trial.suggest_loguniform(\"C\", 1e-2, 1e2)\n",
      "[I 2025-03-27 23:26:20,454] Trial 26 finished with value: 0.6819141449683321 and parameters: {'C': 2.2454639910108924, 'kernel': 'rbf'}. Best is trial 8 with value: 0.6826178747361014.\n",
      "C:\\Users\\abinj\\AppData\\Local\\Temp\\ipykernel_2024\\2631250571.py:3: FutureWarning: suggest_loguniform has been deprecated in v3.0.0. This feature will be removed in v6.0.0. See https://github.com/optuna/optuna/releases/tag/v3.0.0. Use suggest_float(..., log=True) instead.\n",
      "  C = trial.suggest_loguniform(\"C\", 1e-2, 1e2)\n",
      "[I 2025-03-27 23:26:39,633] Trial 27 finished with value: 0.673469387755102 and parameters: {'C': 4.855121070698431, 'kernel': 'rbf'}. Best is trial 8 with value: 0.6826178747361014.\n",
      "C:\\Users\\abinj\\AppData\\Local\\Temp\\ipykernel_2024\\2631250571.py:3: FutureWarning: suggest_loguniform has been deprecated in v3.0.0. This feature will be removed in v6.0.0. See https://github.com/optuna/optuna/releases/tag/v3.0.0. Use suggest_float(..., log=True) instead.\n",
      "  C = trial.suggest_loguniform(\"C\", 1e-2, 1e2)\n",
      "[I 2025-03-27 23:27:00,303] Trial 28 finished with value: 0.6713581984517946 and parameters: {'C': 27.93990400731743, 'kernel': 'rbf'}. Best is trial 8 with value: 0.6826178747361014.\n",
      "C:\\Users\\abinj\\AppData\\Local\\Temp\\ipykernel_2024\\2631250571.py:3: FutureWarning: suggest_loguniform has been deprecated in v3.0.0. This feature will be removed in v6.0.0. See https://github.com/optuna/optuna/releases/tag/v3.0.0. Use suggest_float(..., log=True) instead.\n",
      "  C = trial.suggest_loguniform(\"C\", 1e-2, 1e2)\n",
      "[I 2025-03-27 23:27:20,356] Trial 29 finished with value: 0.5932441942294159 and parameters: {'C': 0.3260736923729424, 'kernel': 'rbf'}. Best is trial 8 with value: 0.6826178747361014.\n"
     ]
    }
   ],
   "source": [
    "def objective(trial):\n",
    "    C = trial.suggest_loguniform(\"C\", 1e-2, 1e2)\n",
    "    kernel = trial.suggest_categorical(\"kernel\", [\"linear\", \"rbf\", \"poly\", \"sigmoid\"])\n",
    "\n",
    "    classifier = SVC(C=C, kernel=kernel)\n",
    "    classifier.fit(X_train, y_train)\n",
    "    \n",
    "    y_pred = classifier.predict(X_val)\n",
    "    accuracy = accuracy_score(y_val, y_pred)\n",
    "    \n",
    "    return accuracy\n",
    "\n",
    "study = optuna.create_study(direction=\"maximize\")\n",
    "study.optimize(objective, n_trials=30)"
   ]
  },
  {
   "cell_type": "code",
   "execution_count": 5,
   "metadata": {},
   "outputs": [
    {
     "name": "stdout",
     "output_type": "stream",
     "text": [
      "Best C: 2.9851455108301725, Best Kernel: rbf\n",
      "Final Validation Accuracy: 0.6826\n"
     ]
    }
   ],
   "source": [
    "best_C = study.best_params[\"C\"]\n",
    "best_kernel = study.best_params[\"kernel\"]\n",
    "print(f\"Best C: {best_C}, Best Kernel: {best_kernel}\")\n",
    "\n",
    "final_classifier = SVC(C=best_C, kernel=best_kernel)\n",
    "final_classifier.fit(X_train, y_train)\n",
    "\n",
    "y_pred = final_classifier.predict(X_val)\n",
    "final_accuracy = accuracy_score(y_val, y_pred)\n",
    "\n",
    "print(f\"Final Validation Accuracy: {final_accuracy:.4f}\")"
   ]
  },
  {
   "cell_type": "code",
   "execution_count": 6,
   "metadata": {},
   "outputs": [],
   "source": [
    "test_csv = \"test.csv\"\n",
    "df_test = pd.read_csv(test_csv)\n",
    "\n",
    "test_folder = \"Images\"\n",
    "test_image_paths = [os.path.join(test_folder, img) for img in df_test[\"Image_name\"]]\n",
    "\n",
    "X_test = np.array([extract_clip_features(img) for img in test_image_paths])\n",
    "\n",
    "X_test = scaler.transform(X_test)\n",
    "\n",
    "y_pred = final_classifier.predict(X_test)\n",
    "y_pred_labels = [emotion_names[round(i)] for i in y_pred]"
   ]
  },
  {
   "cell_type": "code",
   "execution_count": 7,
   "metadata": {},
   "outputs": [
    {
     "name": "stdout",
     "output_type": "stream",
     "text": [
      "Predictions saved to predictions.csv!\n"
     ]
    }
   ],
   "source": [
    "prediction=pd.DataFrame()\n",
    "prediction[\"Emotion\"] = y_pred_labels\n",
    "prediction.to_csv(\"predictions.csv\", index=False)\n",
    "print(\"Predictions saved to predictions.csv!\")"
   ]
  }
 ],
 "metadata": {
  "kernelspec": {
   "display_name": ".venv",
   "language": "python",
   "name": "python3"
  },
  "language_info": {
   "codemirror_mode": {
    "name": "ipython",
    "version": 3
   },
   "file_extension": ".py",
   "mimetype": "text/x-python",
   "name": "python",
   "nbconvert_exporter": "python",
   "pygments_lexer": "ipython3",
   "version": "3.10.11"
  }
 },
 "nbformat": 4,
 "nbformat_minor": 2
}
